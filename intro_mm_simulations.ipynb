{
 "cells": [
  {
   "cell_type": "markdown",
   "id": "567bc304",
   "metadata": {},
   "source": [
    "# A Guide for Your First Micromagnetic Simulations"
   ]
  },
  {
   "cell_type": "markdown",
   "id": "a142f374",
   "metadata": {},
   "source": [
    "**The purpose of this notebook is to give anyone new to the subject a quick start to running their first micromagnetic simulations.** In addition, this notebook provides \n",
    "you with a couple of useful tools. For example, mounting a remote file system allows you to access files on a remote server directly via a graphical user interface on your local machine."
   ]
  },
  {
   "cell_type": "markdown",
   "id": "140848fa-9a8e-4e96-8187-d79f30c9b952",
   "metadata": {},
   "source": [
    "## 1. Connecting to the remote server"
   ]
  },
  {
   "cell_type": "markdown",
   "id": "ea948d9a",
   "metadata": {},
   "source": [
    "To run simulations on the VSC (or GTO), you first have to establish a connection to its servers. Here's how to do it:"
   ]
  },
  {
   "cell_type": "markdown",
   "id": "6ec7075a-e1be-4ee3-9c42-11f289e03fc8",
   "metadata": {},
   "source": [
    "1. First, you have to make sure that you can use the virtual private network, or **VPN**, of the university of Vienna. Follow the step-by-step instructions on this page to get started: https://zid.univie.ac.at/vpn/#c41775\n",
    "2. In addition, you need a **personal VSC account with a password**. Ask Dieter or Claas to create such an account for you. You can change the password later on.  \n",
    "3. Once you have taken care of this, make sure to connect to the university VPN using BIG-IP Edge Client to start your session. A two-factor authentication is required, so keep your phone readily available. \n",
    "4. Next open a terminal and type `ssh user_name@vsc5.vsc.ac.at` for establishing a connection to VSC or `ssh user_name@131.130.25.48` for GTO. Of course, you have to substitute your actual user name instead of typing `user_name`.\n",
    "5. You are then prompted for your personal password as well as a code you receive via SMS. If successful, you are logged in and ready to get your work started! \n",
    "6. Move to the folder assigned to you (e.g. called adam) in the terminal and create a folder using e.g. `mkdir data`. **This is the place to keep your files. Make sure to work exclusively in your personal folder**."
   ]
  },
  {
   "cell_type": "markdown",
   "id": "375dc90d-1e55-4fd1-8501-9d1f7d44bed0",
   "metadata": {},
   "source": [
    "## 2. Managing your files"
   ]
  },
  {
   "cell_type": "markdown",
   "id": "325334aa",
   "metadata": {},
   "source": [
    "At some point, you might figure that it is more convenient to manage all the data you have on your VSC directly from your local machine, instead of having to do all of this from within your terminal. You can achieve this by using FUSE (file system in user space). FUSE allows you to mount a remote file system like yours on the VSC. And it's as easy as this:"
   ]
  },
  {
   "cell_type": "markdown",
   "id": "c4d9d1fb",
   "metadata": {},
   "source": [
    "1. Install the software:\n",
    "    - Mac: `https://osxfuse.github.io`\n",
    "    - Windows: `https://github.com/winfsp/winfsp`\n",
    "    - Linux: `https://wiki.ubuntuusers.de/FUSE/`\n",
    "2. Next, make sure you have created an empty folder, in which the VSC data should be mounted. For example, create a folder `VSC_data` on your desktop. \n",
    "3. To acutally mount, type `sshfs -o follow_symlinks user_name@vsc5.vsc.ac.at:/home/fs71388/user_name VSC_data` in the parent folder of `VSC_data`. Note that there is no blank space between the ssh connection and the path, but there is one between the path and the folder name. \n",
    "4. If this went fine, you should be prompted to type the password you were assigned for the VSC or GTO. \n",
    "5. You should now be able to see all the data you have, e.g. on the VSC, in the local `VSC_data` folder on your desktop. Now you can access all scripts, plots or data you have produced in your simulation locally within your `VSC_data` folder."
   ]
  },
  {
   "cell_type": "markdown",
   "id": "42697341",
   "metadata": {},
   "source": [
    "Now, there are a couple of things that can go wrong. For example, if you have a typo in the above command, you might get an error message saying something like this: `mount_macfuse: mount point /path_to_your_VSC_folder/VSC_data is itself on a macFUSE volume`. To fix it, you first have to unmount by saying `umount path_to_your_VSC_folder/VSC_data` and go back to step 2. of the above recipe. Another problem you might get is that the terminal itself might not react anymore and you have to restart the computer (at least this was the case on MacOS). So make sure not to make a mistake here."
   ]
  },
  {
   "cell_type": "markdown",
   "id": "f1c68ccb",
   "metadata": {},
   "source": [
    "In fact, there is also a simpler approach to move files from your computer to the VSC (or GTO). Instead of mounting the remote file system, you can just copy around files 'manually' by proceeding as follows:\n",
    "\n",
    "1. Open a terminal on the local machine where the file is located or should be moved to.\n",
    "\n",
    "2. For moving a file from the local machine to the external server: `scp path_on_local_machine/filename.py user_name@vsc5.vsc.ac.at: path_on_external_server/filename.py`\n",
    "\n",
    "3. For moving a file from the external server to the local machine: `scp user_name@vsc5.vsc.ac.at: path_on_external_server/filename.py path_on_local_machine/filename.py`"
   ]
  },
  {
   "cell_type": "markdown",
   "id": "1ca1e883-8682-49ae-a108-cdddbb3670d0",
   "metadata": {},
   "source": [
    "## 3. Managing jobs on a high-performance computer"
   ]
  },
  {
   "cell_type": "markdown",
   "id": "18af9f71",
   "metadata": {},
   "source": [
    "A lot of people run their simulations on VSC or GTO. So to submit and manage jobs (i.e. computational tasks) in an organized and efficient way, one can use so-called Slurm scripts. In this way, many users can run their simulations at the same time and without conflict. In this section you learn how use Slurm scripts to submit a job on the VSC."
   ]
  },
  {
   "cell_type": "markdown",
   "id": "2e5d1ec5",
   "metadata": {},
   "source": [
    "Let's have a closer look at a prototypical Slurm script that is used for running simulations on the VSC. Asterisked explanations are inspired by ChatGPT output."
   ]
  },
  {
   "cell_type": "markdown",
   "id": "2a4252aa",
   "metadata": {},
   "source": [
    "- First, you specify the script interepreter by typing `#!/bin/bash`. In this case, `bash`.\n",
    "- Next, the file contains so-called Slurm directives. Lines starting with #SBATCH are Slurm directives, providing information to the Slurm scheduler:\n",
    "\n",
    "    -   `#SBATCH -J your_sim_name`\n",
    "    \n",
    "        [Substitute the name of your simulation for your_sim_name]\n",
    "    -   `#SBATCH -n 1`\n",
    "\n",
    "        [These are the number of cores you request for a simulation, in this case it's one core.]\n",
    "    -   `#SBATCH --time = \"24:00:00\"`\n",
    "\n",
    "        [Type in how long the simulation runs (24h here). If you know how long it runs in advance, e.g. if you\n",
    "        know it just takes ten minutes, you can type time = \"00:10:00\". If possible, the simulation will then be prioritized and \n",
    "        run before other simulations in the queue, which take longer than your own simulation. Note that your job will be cancelled if your simulation takes\n",
    "        longer than specified in `time`.]\n",
    "    -   `#SBATCH --partition = zen3_0512_a100x2`\n",
    "\n",
    "        [This lines specifies the partition. Here, it is a specific graphic card, on which the simulation is run. a100x2 denotes the large GPU, which\n",
    "        should only be used for largeer simulations. For smaller ones use zen2_0256_a40x2.]\n",
    "    \n",
    "    -   `#SBATCH --qos = zen3_0512_a100x2`\n",
    "        \n",
    "        [When you specify --qos = normal in a Slurm script, you are indicating that you want to assign the \"normal\" Quality of Service to your job. Different clusters may have different QoS levels, each with its own set of characteristics or policies. The \"normal\" QoS is typically a standard or default level of service provided by the cluster. Again, for smaller simulations use zen2_0256_a40x2.]*\n",
    "\n",
    "    -   `#SBATCH --mail-type = ALL`\n",
    "        `#SBATCH --mail-user = <user_name@univie.ac.at>``\n",
    "\n",
    "        [By typing these lines you activate email notification when the job starts, ends or fails. Moreover, you specify the recipient of the notifiaction mail. In fact, this\n",
    "        is useful to track the progress of the simulations you've started.]*\n",
    "    \n",
    "    -   `#SBATCH --requeue`\n",
    "\n",
    "        [The --requeue option in a Slurm script is used to request that if a job is terminated due to a node failure or other reasons, Slurm should attempt to requeue the job and run it again. Essentially, it allows the job to be resubmitted automatically in the case of certain failures.]\n",
    "\n",
    "    -   `#SBATCH --gres = gpu:1 `\n",
    "\n",
    "        [When you include --gres = gpu:1 in your Slurm script, you are telling the Slurm scheduler that your job needs access to a GPU for its execution. The scheduler will then try to allocate a node with an available GPU to your job when resources become available. If your application or task requires more GPUs, you can adjust the number accordingly (e.g., gpu:2 for two GPUs).]\n",
    "\n",
    "    -   `#SBATCH --array = 0-9`\n",
    "\n",
    "        [If you have a set of ten parameters you want to do the simulation with, type array = 0-9; for a set of five parameters type array = 0-4 etc.]\n",
    "\n",
    "    -   `#SBATCH -o SlurmOutput`\n",
    "\n",
    "        [Specifies the name of the output file.]\n",
    "\n",
    "- So to set up a Slurm script create a file named for example `jobs_gpu.slrm` and adjust the parameters above to your needs. For example,\n",
    "\n",
    "    ```\n",
    "    #SBATCH -n 1\n",
    "    #SBATCH --time = \"00:10:00\"\n",
    "    #SBATCH --partition = zen2_0256_a40x2\n",
    "    #SBATCH --qos = zen2_0256_a40x2\n",
    "    #SBATCH --mail-type=ALL\n",
    "    #SBATCH --requeue\n",
    "    #SBATCH --gres = gpu:1 \n",
    "    #SBATCH --array = 0-5\n",
    "    #SBATCH -o SlurmOutput\n",
    "    ```\n",
    "-  Next insert the following lines of code. This is the part you will probably not change very often. Adapt the scriptname `run` and `output_folder` to your needs.\n",
    "\n",
    "    ```\n",
    "\n",
    "    # Number of tasks per node\n",
    "\n",
    "    TASKS_PER_NODE = 1\n",
    "\n",
    "    # Initialize two arrays \n",
    "\n",
    "    RANKs = ()      \n",
    "    PIDs = ()\n",
    "\n",
    "    # This line activates a virtual environment located at the specified path\n",
    "    \n",
    "    source /home/fs71388/amil4/pi.magnum_vsc4/data/public_magnumnp_V114/myenv/bin/activate\n",
    "\n",
    "    # Define the scriptname as 'run' and a folder name output_folder to specify where the simulation results are saved\n",
    "    scriptname = run \n",
    "    logs=logs_${scriptname}\n",
    "    mkdir -p $logs\n",
    "    #-o output_folder\n",
    "\n",
    "    # Iterates over all values for RANK \n",
    "\n",
    "    for i in `seq $TASKS_PER_NODE`\n",
    "    do\n",
    "    RANKs[$i]=$(printf \"%06d\" $(($SLURM_ARRAY_TASK_ID * $TASKS_PER_NODE + $i - 1)))\n",
    "    python3 ${scriptname}.py --rank=${RANKs[$i]} --output output_folder > ${logs}/run_${RANKs[$i]}.out 2> ${logs}/run_${RANKs[$i]}.err &\n",
    "    PIDs[$i]=$!\n",
    "    echo \"Starting Rank ${RANKs[$i]} (PID: ${PIDs[$i]})\"\n",
    "    done\n",
    "\n",
    "    # Wait for background jobs\n",
    "\n",
    "    for i in `seq $TASKS_PER_NODE`\n",
    "    do\n",
    "    wait ${PIDs[$i]}\n",
    "    echo \"Rank ${RANKs[$i]} (PID: ${PIDs[$i]}): finished with return value $?\"\n",
    "    done\n",
    "    ```\n",
    "\n",
    "- Now that your Slurm script is ready, you can perform more complex simulations on the VSC. One advantage is that you can let your simulation be run automatically for a couple of different sets of parameters. To sketch how this works, consider this:\n",
    "\n",
    "    1. Use the argparse module in your python file to define a parameter called `rank`: \n",
    "    \n",
    "         ```\n",
    "        parser = argparse.ArgumentParser(description = 'Run simple simulation.')\n",
    "        parser.add_argument('-r', '--rank', default = 0, type = int)\n",
    "        parser.add_argument('-o', '--output', default = \"output_folder\", type = str)\n",
    "        args = parser.parse_args()\n",
    "        outdir = args.output\n",
    "        ```\n",
    "\n",
    "    2. For each parameter value of `rank`, a specific set of parameters for the simulation can then be associated. For example, if `rank` is 0 the simulation should run for the parameters $A = 1$, $B = 2$ and $C = 3$. If rank is 1, it should run the simulation for the values $A = 4, B = 5, C = 6$ and so on. The parameters could be stored in a dictionary within the main file, but they could also be read in from a vsc or excel file.\n",
    "    3. Once this is fixed in the script, move to the slrm script and adjust its parameters if needed (for example, the running time).\n",
    "\n",
    "- Finally, if everything is set up, you can submit the job using: `sbatch jobs_gpu.slrm` (Replace jobs by the name of the slrm script.) If necessary, the job can be cancelled using `scancel JOBID`, where JOBID is a number associated to the submitted job. If you want to look the number up, use: `qs`. To get more detailed information about who is running which job on which GPU you can type `qs_gpu_all`.\n",
    "\n",
    "    - Note that the latter commands first need to be defined in the .bashrc file. To do so, go to your home folder on the VSC cluster and type  `vim .bashrc`. Within this file you then need to adjust the lines `alias qs_gpu_all = \"squeue | grep 0x2\" ` and `alias qs = \"squeue -uuser_name\"`. Of course you could define them differently, if you wanted.\n",
    "\n",
    "- Please use `source /home/fs71388/amil4/pi.magnum_vsc4/data/public_magnumnp_V114/myenv/bin/activate` in your Slurm script. Amil set this up and remarked: \n",
    "\n",
    "    \"We currently don't have a unified solution for simulating with magnum.np\n",
    "    on VSC5. The solution up to now was that everyone who simulates has\n",
    "    their own local installation of magnum.np. However this is not feasable,\n",
    "    since we have very little space on /home of VSC5. It is also a bit\n",
    "    unintuitive to do this setup alone since you need a specific version of\n",
    "    torch in order for magnum.np to calculate on the GPUs. Therefore I tried\n",
    "    to create a virtual environment, to which everyone has access to, where\n",
    "    all the correct packages are already installed.\n",
    "    The idea is that you only need to log on, load the environment, and\n",
    "    everything should be working. Attached is a SLURM script in which the\n",
    "    environment is being loaded, before the simulations are started.\n",
    "    If you have questions or feel that this could be improved in a way, feel\n",
    "    free to contact me!\n",
    "    \n",
    "    PS: If you are new to simulating on the VSC5 please keep in mind\n",
    "    1.) to store all simulation data in /gpfs/data/fs71388/user since as\n",
    "    already mentioned /home is quite small\n",
    "    2.) to keep track of how many hours you are simulating, your statistics\n",
    "    can be seen here https://service.vsc.ac.at/clusteruser/stats/6\"\n"
   ]
  },
  {
   "cell_type": "markdown",
   "id": "4a05c9d4",
   "metadata": {},
   "source": [
    "## 4. Micromagnetic Simulations"
   ]
  },
  {
   "cell_type": "markdown",
   "id": "5057b7bf",
   "metadata": {},
   "source": [
    "Check out the Gitlab page of Magnumnp to download some demos and run your first micromagnetic simulations on VSC: `https://gitlab.com/magnum.np/magnum.np/-/tree/main/demos?ref_type=heads`. From the physical perspective, the following paper is a good place to get started: `https://scholar.google.at/citations?view_op=view_citation&hl=de&user=di9SqgIAAAAJ&citation_for_view=di9SqgIAAAAJ:O3NaXMp0MMsC`."
   ]
  },
  {
   "cell_type": "markdown",
   "id": "75b23189",
   "metadata": {},
   "source": [
    "## Appendix A: Navigating the terminal like a pro"
   ]
  },
  {
   "cell_type": "markdown",
   "id": "9d7f128c",
   "metadata": {},
   "source": [
    "This is a list of some terminal commands you might find useful. The ones you'll most frequently use are, of course, `cd` to change the directory and `ls` to list all files and folders in the current directory. Many IDEs like Visual Studio Code provide an emulator of your local terminal, which you can use in the same way. The following list was partially generated by ChatGPT and provides Linux/Mac terminal commands. So if you're a Windows user, you'll have to adapt the list because the commands are different."
   ]
  },
  {
   "cell_type": "markdown",
   "id": "59da0135",
   "metadata": {},
   "source": [
    "1. **Use Tab Completion (very important)**\n",
    "   - Press `Tab` to auto-complete commands, file names, and directories. It saves time and minimizes typing errors.\n",
    "\n",
    "2. **Creating Files and Folders (very important)**\n",
    "   - To create a folder, type: `mkdir your_folder_name`\n",
    "   - To create a new file type: `touch your_file_name.txt`, `touch run.py` etc.\n",
    "\n",
    "   3. **Quick Directory Change: (very important) **\n",
    "   - Use `cd` to change directories. Typing `cd -` takes you to the previous directory, and `cd ~` goes to your home directory.\n",
    "   - To navigate very quickly to your home directory type from anywhere in the terminal `cd ~``\n",
    "   - To navigate to a parent folder type: `cd ../` \n",
    "\n",
    "3. **Copy files and folders (very important)**\n",
    "   - To copy a file type: `cp your_file_name.txt your_file_name_copy.txt``\n",
    "   - To copy a file from a specific folder to another one type: ` cp path_to_file_in_specific_folder/file_name.txt path_to_another_folder/file_name.txt`\n",
    "   - You can also copy a folder like this: `cp old_folder_name new_folder_name`\n",
    "\n",
    "   \n",
    "2. **History Navigation:**\n",
    "   - Press the up and down arrow keys to cycle through your command history. Combine with `Ctrl + R` to search backward in history.\n",
    "   - This command allows to browse through the history and to search for the keyword \"yourkeyword\" in the command line history:\n",
    "   `history | grep -i yourkeyword`\n",
    "\n",
    "4. **Shortcut for Home and End:**\n",
    "   - Press `Ctrl + A` to move to the beginning of the line and `Ctrl + E` to move to the end. Handy for quick edits.\n",
    "   \n",
    "5. **Deleting Content of a Line:**\n",
    "   - Press `Ctrl + U` to delete from the cursor to the beginning of the line.\n",
    "   - Press `Ctrl + K` to delete from the cursor to the end of the line.\n",
    "\n",
    "6. **Clearing the Terminal:**\n",
    "   - Press `Ctrl + L` to clear the terminal screen. This doesn't delete the command history but provides a clean slate.\n",
    "\n",
    "7. **Wildcard Characters:**\n",
    "   - Employ `*` for wildcard matching. For instance, `ls *.txt` lists all text files in the current directory.\n",
    "\n",
    "8. **Recursive Commands:**\n",
    "   - Many commands support the `-r` flag for recursive operations. For instance, to recursively list all files in a directory, you can use:\n",
    "\n",
    "     ```\n",
    "     ls -R\n",
    "     ```\n",
    "\n",
    "   - To recursively remove a directory and its contents, use:\n",
    "\n",
    "     ```\n",
    "     rm -r directory_name\n",
    "     ```\n",
    "\n",
    "9. **Pipeline and Redirection:**\n",
    "   - Use `|` to pipe the output of one command as the input to another. For example, `ls | grep keyword` filters directory content.\n",
    "   - Use `>` to redirect output to a file. For example, `ls > file_list.txt` saves the list of files to a file.\n",
    "\n",
    "10. **Ctrl + C and Ctrl + D:**\n",
    "   - Press `Ctrl + C` to interrupt a command and `Ctrl + D` to signal the end of input or exit a shell session.\n",
    "\n",
    "11. **Multiple Windows/Tabs:**\n",
    "   - If using a terminal emulator like `tmux` or `screen`, explore multiple windows or tabs for simultaneous tasks. "
   ]
  },
  {
   "cell_type": "markdown",
   "id": "4aae7254",
   "metadata": {},
   "source": [
    "## Appendix B: Editing your code "
   ]
  },
  {
   "cell_type": "markdown",
   "id": "bbb79dda",
   "metadata": {},
   "source": [
    "Some people like to use an editor called **vim** to edit their code. For example, if you want to open a file `run.py` on your VSC repository and make some changes to it, you can type `vim run.py`. Here is a list for the most important commands in `vim` that was generated by ChatGPT. Alternatively, you can use an IDE like **Visual Studio Code**, with which you can also access the VSC server and that allows for a more intuitive navigation in your files. Moreover, you can use a bunch of built-in tools like that make your live as a programmer easier. This is probably a matter of taste…"
   ]
  },
  {
   "cell_type": "markdown",
   "id": "9ccbf6bf",
   "metadata": {},
   "source": [
    "### Basic Navigation\n",
    "1. **Move Cursor:**\n",
    "    - `h`: Move left\n",
    "    - `j`: Move down\n",
    "    - `k`: Move up\n",
    "    - `l`: Move right\n",
    "\n",
    "2. **Navigate by Words:**\n",
    "    - `w`: Move to the beginning of the next word\n",
    "    - `b`: Move to the beginning of the previous word\n",
    "    - `e`: Move to the end of the current word\n",
    "\n",
    "3. **Navigate by Lines:**\n",
    "    - `0`: Move to the beginning of the line\n",
    "    - `$`: Move to the end of the line\n",
    "    - `gg`: Move to the beginning of the file\n",
    "    - `G`: Move to the end of the file\n",
    "    - `:<line_number>`: Move to a specific line number\n",
    "\n",
    "### Editing\n",
    "\n",
    "4. **Insert Mode:**\n",
    "    - `i`: Insert before the cursor\n",
    "    - `I`: Insert at the beginning of the line\n",
    "    - `a`: Insert after the cursor\n",
    "    - `A`: Insert at the end of the line\n",
    "    - `o`: Open a new line below the current line\n",
    "    - `O`: Open a new line above the current line\n",
    "\n",
    "5. **Editing Text:**\n",
    "    - `x`: Delete the character under the cursor\n",
    "    - `dd`: Delete the current line\n",
    "    - `yy`: Yank (copy) the current line\n",
    "    - :%y: Copy all lines in a file \n",
    "    - `p`: Paste the yanked or deleted text after the cursor\n",
    "    - `u`: Undo\n",
    "    - `Ctrl + r`: Redo\n",
    "\n",
    "### Searching and Replacing\n",
    "\n",
    "6. **Search:**\n",
    "    - `/pattern`: Search forward for a pattern\n",
    "    - `?pattern`: Search backward for a pattern\n",
    "    - `n`: Move to the next occurrence\n",
    "    - `N`: Move to the previous occurrence\n",
    "\n",
    "7. **Replace:**\n",
    "    - `:s/old/new`: Replace the first occurrence of \"old\" with \"new\" on the current line\n",
    "    - `:s/old/new/g`: Replace all occurrences of \"old\" with \"new\" on the current line\n",
    "    - `:%s/old/new/g`: Replace all occurrences in the entire file\n",
    "\n",
    "### Saving and Exiting\n",
    "\n",
    "8. **Save and Quit:**\n",
    "    - `:w`: Save changes\n",
    "    - `:wq` or `ZZ`: Save changes and quit\n",
    "\n",
    "9. **Quit without Saving:**\n",
    "    - `:q`: Quit (only if no changes were made)\n",
    "    - `:q!`: Quit without saving changes\n",
    "\n",
    "### Miscellaneous\n",
    "\n",
    "10. **Copy/Paste (Visual Mode):**\n",
    "    - `v`: Enter visual mode\n",
    "    - `V`: Enter visual line mode\n",
    "    - `Ctrl + v`: Enter visual block mode\n",
    "\n",
    "11. **Indentation:**\n",
    "    - `>>`: Indent the current line\n",
    "    - `<<`: Unindent the current line\n",
    "\n",
    "12. **Exiting and Entering Insert Mode:**\n",
    "    - `Esc`: Exit insert mode or visual mode and return to normal mode\n",
    "    - `i`: Enter insert mode before the cursor\n",
    "    - `I`: Enter insert mode at the beginning of the line\n",
    "    - `a`: Enter insert mode after the cursor\n",
    "    - `A`: Enter insert mode at the end of the line\n",
    "\n",
    "13. **Exiting Vim:**\n",
    "    - `:q`: Quit (if no changes were made)\n",
    "    - `:q!`: Quit without saving changes\n",
    "    - `:wq` or `ZZ`: Save changes and quit\n"
   ]
  },
  {
   "cell_type": "markdown",
   "id": "6d32882e",
   "metadata": {},
   "source": [
    "## Appendix C: Screen"
   ]
  },
  {
   "cell_type": "markdown",
   "id": "4cc86477",
   "metadata": {},
   "source": [
    "**Screen** allows you to continue simulations on an external server even if for some reason the connection is lost. When you are using slrm scripts on the VSC, this tool \n",
    "is not really needed, but it can be useful for simulations running on GTO since the simulation stops when you close the terminal (for example when you go home in the evening). \n",
    "So here is a crash course on this tool.\n",
    "\n",
    "\n",
    "1. Type `screen` and hit enter; now you are in a screen. \n",
    "2. Start a script, e.g. by typing `python3 run.py`.\n",
    "3. Detach from the screen associated by hitting `ctrl+a` and then `d`\n",
    "4. To list all screen sessions type screen `-ls`\n",
    "5. To reattach to a session type screen `-r sessionname`\n",
    "6. To kill a screen session type screen `-X -S sessionname quit`\n",
    "7. To rename a screen session hit `ctrl+a` within a screen window, then type a colon `:` to open up a command line; afterwards type `sessionname new_session_name`. "
   ]
  }
 ],
 "metadata": {
  "kernelspec": {
   "display_name": "Python 3 (ipykernel)",
   "language": "python",
   "name": "python3"
  },
  "language_info": {
   "codemirror_mode": {
    "name": "ipython",
    "version": 3
   },
   "file_extension": ".py",
   "mimetype": "text/x-python",
   "name": "python",
   "nbconvert_exporter": "python",
   "pygments_lexer": "ipython3",
   "version": "3.9.6"
  }
 },
 "nbformat": 4,
 "nbformat_minor": 5
}
